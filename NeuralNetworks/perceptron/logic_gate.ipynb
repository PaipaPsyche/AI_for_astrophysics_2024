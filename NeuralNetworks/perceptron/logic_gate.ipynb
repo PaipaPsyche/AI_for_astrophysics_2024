{
 "cells": [
  {
   "cell_type": "code",
   "execution_count": 131,
   "metadata": {},
   "outputs": [],
   "source": [
    "import numpy as np \n",
    "import matplotlib.pyplot as plt"
   ]
  },
  {
   "cell_type": "code",
   "execution_count": 177,
   "metadata": {},
   "outputs": [],
   "source": [
    "def create_sample(func):\n",
    "    inputA = [0,0,1,1]\n",
    "    inputB = [0,1,0,1]\n",
    "    output = [int(func(a,b)) for a,b in zip(inputA, inputB)]\n",
    "    return inputA, inputB, output\n",
    "\n",
    "def augment_sample(inputA, inputB,output,n_samples=15):\n",
    "    new_inputA, new_inputB, new_output = [],[],[]\n",
    "    for i in range(n_samples):\n",
    "        app_ind = np.random.randint(low=0, high=len(inputA))\n",
    "        new_inputA.append(inputA[app_ind])\n",
    "        new_inputB.append(inputB[app_ind])\n",
    "        new_output.append(output[app_ind])\n",
    "    return new_inputA, new_inputB, new_output\n"
   ]
  },
  {
   "cell_type": "code",
   "execution_count": 178,
   "metadata": {},
   "outputs": [],
   "source": [
    "iA,iB,out = augment_sample(*create_sample(np.logical_and))"
   ]
  },
  {
   "cell_type": "code",
   "execution_count": 179,
   "metadata": {},
   "outputs": [
    {
     "data": {
      "text/plain": [
       "1"
      ]
     },
     "execution_count": 179,
     "metadata": {},
     "output_type": "execute_result"
    }
   ],
   "source": [
    "4//3"
   ]
  },
  {
   "cell_type": "code",
   "execution_count": 185,
   "metadata": {},
   "outputs": [],
   "source": [
    "\n",
    "def evaluate(input, weights):\n",
    "\n",
    "    return np.dot(np.array(input), weights)\n",
    "\n",
    "def activation(x):\n",
    "    return 1 if x > 0 else 0\n",
    "\n",
    "\n",
    "def fit_nn(inputA, inputB, output, n_epochs=50, lr=0.01, print_rate=5):\n",
    "    weights = np.random.rand(3)\n",
    "    \n",
    "    for epoch in range(n_epochs):\n",
    "        error_tot = 0\n",
    "        for a,b,o in zip(inputA, inputB, output):\n",
    "            input_arr = np.array([a,b,-1])\n",
    "            eval = evaluate(input_arr, weights)\n",
    "            pred = activation(eval)\n",
    "            error = o - pred\n",
    "            weights += input_arr * error * lr\n",
    "            \n",
    "            error_tot+= 0.5 * error**2\n",
    "        if(epoch%print_rate == 0):\n",
    "            print(f\"Epoch: {epoch} Error: {error_tot}\")\n",
    "    return weights\n",
    "    \n",
    "    \n",
    "    \n",
    "\n",
    "def test(weights,func = np.logical_and):\n",
    "    ia,ib,io = create_sample(func)\n",
    "    score = 0\n",
    "    for a,b,o in zip(ia,ib,io):\n",
    "        val = evaluate([a,b,-1], weights)\n",
    "        pred = activation(val)\n",
    "        print(f\"Input: {a,b} Expected output: {o} Prediction: {pred} [Value: {round(val,2)}]\")\n",
    "        if pred == o:\n",
    "            score+=1\n",
    "    print('SCORE:', score)\n",
    "    return score\n",
    "        \n",
    "        \n",
    "        \n",
    "        \n",
    "    "
   ]
  },
  {
   "cell_type": "code",
   "execution_count": 188,
   "metadata": {},
   "outputs": [
    {
     "name": "stdout",
     "output_type": "stream",
     "text": [
      "Epoch: 0 Error: 8.5\n",
      "Epoch: 5 Error: 0.0\n",
      "Epoch: 10 Error: 0.0\n",
      "Epoch: 15 Error: 0.0\n",
      "Epoch: 20 Error: 0.0\n",
      "Epoch: 25 Error: 0.0\n",
      "Epoch: 30 Error: 0.0\n",
      "Epoch: 35 Error: 0.0\n",
      "Epoch: 40 Error: 0.0\n",
      "Epoch: 45 Error: 0.0\n",
      "Weights: [0.2403803  0.57185389 0.57230987]\n",
      "Input: (0, 0) Expected output: 0 Prediction: 0 [Value: -0.57]\n",
      "Input: (0, 1) Expected output: 0 Prediction: 0 [Value: -0.0]\n",
      "Input: (1, 0) Expected output: 0 Prediction: 0 [Value: -0.33]\n",
      "Input: (1, 1) Expected output: 1 Prediction: 1 [Value: 0.24]\n",
      "SCORE: 4\n"
     ]
    },
    {
     "data": {
      "text/plain": [
       "4"
      ]
     },
     "execution_count": 188,
     "metadata": {},
     "output_type": "execute_result"
    }
   ],
   "source": [
    "ff = np.logical_and\n",
    "iA,iB,out = augment_sample(*create_sample(ff), n_samples=100)\n",
    "ww = fit_nn(iA,iB,out, n_epochs=50, lr=0.001, print_rate=5)\n",
    "print('Weights:',ww)\n",
    "test(ww,ff)"
   ]
  },
  {
   "cell_type": "code",
   "execution_count": 167,
   "metadata": {},
   "outputs": [
    {
     "data": {
      "text/plain": [
       "2"
      ]
     },
     "execution_count": 167,
     "metadata": {},
     "output_type": "execute_result"
    }
   ],
   "source": [
    "5%3"
   ]
  },
  {
   "cell_type": "code",
   "execution_count": null,
   "metadata": {},
   "outputs": [],
   "source": []
  }
 ],
 "metadata": {
  "kernelspec": {
   "display_name": "AIastrophyisics",
   "language": "python",
   "name": "python3"
  },
  "language_info": {
   "codemirror_mode": {
    "name": "ipython",
    "version": 3
   },
   "file_extension": ".py",
   "mimetype": "text/x-python",
   "name": "python",
   "nbconvert_exporter": "python",
   "pygments_lexer": "ipython3",
   "version": "3.10.12"
  }
 },
 "nbformat": 4,
 "nbformat_minor": 2
}
