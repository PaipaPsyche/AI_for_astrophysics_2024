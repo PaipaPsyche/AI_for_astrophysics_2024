{
 "cells": [
  {
   "cell_type": "code",
   "execution_count": 1,
   "metadata": {},
   "outputs": [],
   "source": [
    "import numpy as np \n",
    "import matplotlib.pyplot as plt"
   ]
  },
  {
   "cell_type": "markdown",
   "metadata": {},
   "source": [
    "# IRIS"
   ]
  },
  {
   "cell_type": "code",
   "execution_count": 128,
   "metadata": {},
   "outputs": [],
   "source": [
    "\n",
    "######################### ##########################\n",
    "#          Loading data and pre process\n",
    "######################### ##########################\n",
    "\n",
    "raw_data = np.loadtxt(\"data/iris.data\")\n",
    "\n",
    "\n",
    "nb_dat = np.shape(raw_data)[0]\n",
    "in_dim = np.shape(raw_data)[1] - 1\n",
    "out_dim = 3\n",
    "\n",
    "input = np.append(raw_data[:,:in_dim], -1.0*np.ones((nb_dat,1)), axis=1)\n",
    "output = np.zeros(out_dim)\n",
    "\n",
    "targ = np.zeros((nb_dat,out_dim))\n",
    "for i in range(0,nb_dat):\n",
    "\ttarg[i,int(raw_data[i,in_dim])] = 1.0\n",
    "\n",
    "\n",
    "index = np.arange(0,nb_dat)"
   ]
  },
  {
   "cell_type": "code",
   "execution_count": 129,
   "metadata": {},
   "outputs": [],
   "source": [
    "\n",
    "\n",
    "\n",
    "\n",
    "def determine_group(o):\n",
    "\treturn 1.0*np.argmax(o)\n",
    "\n",
    "def activation(x):\n",
    "\treturn np.where(x > 0, 1., 0.)\n",
    "\n",
    "def compare_output(targ,active):\n",
    "    accuracy = 0\n",
    "    for i in range(0,len(targ)):\n",
    "\n",
    "        tar = determine_group(targ[i])\n",
    "        act = determine_group(active[i])\n",
    "        if(tar == act):\n",
    "            accuracy += 1\n",
    "    #print(\"Accuracy: \",accuracy/nb_dat)\n",
    "    return accuracy/len(targ)\n",
    "\n",
    "def shuffle_data(input,target):\n",
    "\tindex = np.arange(0,len(input))\n",
    "\tnp.random.shuffle(index)\n",
    "\treturn input[index],target[index]\n",
    "\n",
    "\n",
    "def perceptron(input,target,lr=0.01,epochs=500):\n",
    "\tweights = np.random.rand(np.shape(input)[1],np.shape(target)[1])*(0.02)-0.01\n",
    "\tfor epoch in range(0,epochs):\n",
    "\t\tinput,target = shuffle_data(input,target)\n",
    "\t\teval = np.dot(input,weights)\n",
    "\t\tactive = activation(eval)\n",
    "\t\terrors = target - active\n",
    "\t\tweights += lr*np.dot(input.T,errors)\n",
    "\t\ttot_err = 1/2*np.sum(errors**2)\n",
    "\t\tacc = compare_output(target,active) \n",
    "\t\tif(epoch%10 == 0):\n",
    "\t\t\tprint(\"Epoch: \",epoch,\" Error: \",tot_err,\"accuracy: \",round(acc*100,2),\"%\")\n",
    "\treturn weights\n",
    "\n",
    "\n",
    "def test_perceptron(input,target,weights):\n",
    "\teval = np.dot(input,weights)\n",
    "\tactive = activation(eval)\n",
    "\tacc = compare_output(target,active)\n",
    "\tprint(\"Accuracy: \",round(acc*100,2),\"%\")\n",
    "\treturn acc\n"
   ]
  },
  {
   "cell_type": "code",
   "execution_count": 130,
   "metadata": {},
   "outputs": [
    {
     "name": "stdout",
     "output_type": "stream",
     "text": [
      "training size: 113 test size: 37\n",
      "Epoch:  0  Error:  94.0 accuracy:  33.63 %\n",
      "Epoch:  10  Error:  37.5 accuracy:  33.63 %\n",
      "Epoch:  20  Error:  38.0 accuracy:  33.63 %\n",
      "Epoch:  30  Error:  52.0 accuracy:  66.37 %\n",
      "Epoch:  40  Error:  37.5 accuracy:  33.63 %\n",
      "Epoch:  50  Error:  29.0 accuracy:  48.67 %\n",
      "Epoch:  60  Error:  41.5 accuracy:  36.28 %\n",
      "Epoch:  70  Error:  41.5 accuracy:  66.37 %\n",
      "Epoch:  80  Error:  37.5 accuracy:  66.37 %\n",
      "Epoch:  90  Error:  30.0 accuracy:  46.9 %\n",
      "Epoch:  100  Error:  36.5 accuracy:  35.4 %\n",
      "Epoch:  110  Error:  47.5 accuracy:  66.37 %\n",
      "Epoch:  120  Error:  35.5 accuracy:  47.79 %\n",
      "Epoch:  130  Error:  21.5 accuracy:  61.95 %\n",
      "Epoch:  140  Error:  25.0 accuracy:  66.37 %\n",
      "Epoch:  150  Error:  19.0 accuracy:  66.37 %\n",
      "Epoch:  160  Error:  23.0 accuracy:  66.37 %\n",
      "Epoch:  170  Error:  18.5 accuracy:  67.26 %\n",
      "Epoch:  180  Error:  18.5 accuracy:  67.26 %\n",
      "Epoch:  190  Error:  18.5 accuracy:  67.26 %\n",
      "Accuracy:  67.57 %\n"
     ]
    }
   ],
   "source": [
    "\n",
    "percentage_test = 0.25\n",
    "nb_test = int(percentage_test*(nb_dat-1))\n",
    "print('training size:',nb_dat-nb_test,'test size:',nb_test)\n",
    "#input,targ = shuffle_data(input,targ)\n",
    "\n",
    "train_input = input[:-nb_test]\n",
    "train_targ = targ[:-nb_test]\n",
    "test_input = input[-nb_test:]\n",
    "test_targ = targ[-nb_test:]\n",
    "ww = perceptron(train_input,train_targ,lr=0.1,epochs=200)\n",
    "acc = test_perceptron(test_input,test_targ,ww)"
   ]
  },
  {
   "cell_type": "markdown",
   "metadata": {},
   "source": [
    "# PIMA"
   ]
  },
  {
   "cell_type": "code",
   "execution_count": 131,
   "metadata": {},
   "outputs": [],
   "source": [
    "raw_data = np.loadtxt(\"data/pima-indians-diabetes.data\")\n",
    "\n",
    "\n",
    "nb_dat = np.shape(raw_data)[0]\n",
    "in_dim = np.shape(raw_data)[1] - 1\n",
    "out_dim = 2\n",
    "\n",
    "input = np.append(raw_data[:,:in_dim], -1.0*np.ones((nb_dat,1)), axis=1)\n",
    "output = np.zeros(out_dim)\n",
    "\n",
    "targ = np.zeros((nb_dat,out_dim))\n",
    "for i in range(0,nb_dat):\n",
    "\ttarg[i,int(raw_data[i,in_dim])] = 1.0\n",
    " "
   ]
  },
  {
   "cell_type": "code",
   "execution_count": 135,
   "metadata": {},
   "outputs": [
    {
     "name": "stdout",
     "output_type": "stream",
     "text": [
      "training size: 692 test size: 76\n",
      "Epoch:  0  Error:  347.0 accuracy:  65.32 %\n",
      "Epoch:  10  Error:  238.0 accuracy:  65.61 %\n",
      "Epoch:  20  Error:  453.0 accuracy:  34.54 %\n",
      "Epoch:  30  Error:  345.5 accuracy:  65.61 %\n",
      "Epoch:  40  Error:  443.0 accuracy:  37.43 %\n",
      "Epoch:  50  Error:  234.0 accuracy:  65.32 %\n",
      "Epoch:  60  Error:  262.0 accuracy:  63.29 %\n",
      "Epoch:  70  Error:  391.5 accuracy:  48.99 %\n",
      "Epoch:  80  Error:  343.0 accuracy:  65.61 %\n",
      "Epoch:  90  Error:  382.0 accuracy:  54.34 %\n",
      "Epoch:  100  Error:  278.5 accuracy:  65.61 %\n",
      "Epoch:  110  Error:  338.0 accuracy:  66.91 %\n",
      "Epoch:  120  Error:  219.5 accuracy:  67.49 %\n",
      "Epoch:  130  Error:  310.5 accuracy:  65.61 %\n",
      "Epoch:  140  Error:  319.5 accuracy:  65.61 %\n",
      "Epoch:  150  Error:  240.0 accuracy:  65.32 %\n",
      "Epoch:  160  Error:  289.5 accuracy:  67.2 %\n",
      "Epoch:  170  Error:  274.0 accuracy:  65.61 %\n",
      "Epoch:  180  Error:  286.0 accuracy:  65.61 %\n",
      "Epoch:  190  Error:  278.5 accuracy:  65.61 %\n",
      "Accuracy:  65.1 %\n"
     ]
    }
   ],
   "source": [
    "\n",
    "percentage_test = 0.1\n",
    "nb_test = int(percentage_test*(nb_dat-1))\n",
    "print('training size:',nb_dat-nb_test,'test size:',nb_test)\n",
    "#input,targ = shuffle_data(input,targ)\n",
    "\n",
    "train_input = input[:-nb_test]\n",
    "train_targ = targ[:-nb_test]\n",
    "test_input = input[-nb_test:]\n",
    "test_targ = targ[-nb_test:]\n",
    "ww = perceptron(train_input,train_targ,lr=0.1,epochs=200)\n",
    "acc = test_perceptron(input,targ,ww)"
   ]
  },
  {
   "cell_type": "code",
   "execution_count": null,
   "metadata": {},
   "outputs": [],
   "source": []
  }
 ],
 "metadata": {
  "kernelspec": {
   "display_name": "AIastrophyisics",
   "language": "python",
   "name": "python3"
  },
  "language_info": {
   "codemirror_mode": {
    "name": "ipython",
    "version": 3
   },
   "file_extension": ".py",
   "mimetype": "text/x-python",
   "name": "python",
   "nbconvert_exporter": "python",
   "pygments_lexer": "ipython3",
   "version": "3.10.12"
  }
 },
 "nbformat": 4,
 "nbformat_minor": 2
}
